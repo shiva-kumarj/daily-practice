{
 "cells": [
  {
   "cell_type": "markdown",
   "metadata": {
    "heading_collapsed": true
   },
   "source": [
    "## The Hurdle Race"
   ]
  },
  {
   "cell_type": "code",
   "execution_count": null,
   "metadata": {
    "ExecuteTime": {
     "end_time": "2020-09-15T04:21:19.390366Z",
     "start_time": "2020-09-15T04:21:01.635891Z"
    },
    "code_folding": [],
    "hidden": true
   },
   "outputs": [],
   "source": [
    "#!/bin/python3\n",
    "\n",
    "import math\n",
    "import os\n",
    "import random\n",
    "import re\n",
    "import sys\n",
    "\n",
    "# Complete the hurdleRace function below.\n",
    "def hurdleRace(k, height):\n",
    "    return (max(max(height) - k, 0))\n",
    "\n",
    "if __name__ == '__main__':\n",
    "    #fptr = open(os.environ['OUTPUT_PATH'], 'w')\n",
    "\n",
    "    nk = input().split()\n",
    "\n",
    "    n = int(nk[0])\n",
    "\n",
    "    k = int(nk[1])\n",
    "\n",
    "    height = list(map(int, input().rstrip().split()))\n",
    "\n",
    "    result = hurdleRace(k, height)\n",
    "    \n",
    "    print(result)\n",
    "\n",
    "    #fptr.write(str(result) + '\\n')\n",
    "\n",
    "    #fptr.close()\n"
   ]
  },
  {
   "cell_type": "markdown",
   "metadata": {
    "heading_collapsed": true
   },
   "source": [
    "## Designer PDF Viewer"
   ]
  },
  {
   "cell_type": "code",
   "execution_count": null,
   "metadata": {
    "ExecuteTime": {
     "end_time": "2020-09-15T04:46:48.194446Z",
     "start_time": "2020-09-15T04:46:23.100246Z"
    },
    "code_folding": [],
    "hidden": true
   },
   "outputs": [],
   "source": [
    "#!/bin/python3\n",
    "\n",
    "import math\n",
    "import os\n",
    "import random\n",
    "import re\n",
    "import sys\n",
    "\n",
    "# Complete the designerPdfViewer function below.\n",
    "def designerPdfViewer(h, word):\n",
    "    maximum = 0\n",
    "    for char in word:\n",
    "        if h[ord(char)-97] > maximum:\n",
    "            maximum = h[ord(char) - ord('a')]\n",
    "    return maximum * len(word)\n",
    "\n",
    "if __name__ == '__main__':\n",
    "    #fptr = open(os.environ['OUTPUT_PATH'], 'w')\n",
    "\n",
    "    h = list(map(int, input().rstrip().split()))\n",
    "\n",
    "    word = input()\n",
    "\n",
    "    result = designerPdfViewer(h, word)\n",
    "    \n",
    "    print(result)\n",
    "\n",
    "    #fptr.write(str(result) + '\\n')\n",
    "\n",
    "    #fptr.close()\n"
   ]
  },
  {
   "cell_type": "markdown",
   "metadata": {
    "heading_collapsed": true
   },
   "source": [
    "## Utopian Tree"
   ]
  },
  {
   "cell_type": "code",
   "execution_count": null,
   "metadata": {
    "ExecuteTime": {
     "end_time": "2020-09-16T09:12:47.375302Z",
     "start_time": "2020-09-16T09:12:35.238265Z"
    },
    "code_folding": [],
    "hidden": true
   },
   "outputs": [],
   "source": [
    "#!/bin/python3\n",
    "\n",
    "import math\n",
    "import os\n",
    "import random\n",
    "import re\n",
    "import sys\n",
    "\n",
    "# Complete the utopianTree function below.\n",
    "def utopianTree_1(n):\n",
    "    H = [1]\n",
    "    for i in range(1, n+1):\n",
    "        if(i%2 != 0):\n",
    "            H.append(2 * H[i-1])\n",
    "        else:\n",
    "            H.append(H[i-1]+1)\n",
    "    return (H[-1])\n",
    "\n",
    "def utopianTree(n):\n",
    "    H = 1\n",
    "    for i in range(1, n+1):\n",
    "        if(i%2 != 0):\n",
    "            H = 2*H\n",
    "        else:\n",
    "            H = H+1\n",
    "    return H\n",
    "if __name__ == '__main__':\n",
    "    #fptr = open(os.environ['OUTPUT_PATH'], 'w')\n",
    "\n",
    "    t = int(input())\n",
    "\n",
    "    for t_itr in range(t):\n",
    "        n = int(input())\n",
    "\n",
    "        result = utopianTree(n)\n",
    "        \n",
    "        print(result)\n",
    "\n",
    "        #fptr.write(str(result) + '\\n')\n",
    "\n",
    "    #fptr.close()\n"
   ]
  },
  {
   "cell_type": "markdown",
   "metadata": {
    "heading_collapsed": true
   },
   "source": [
    "## Angry Professor"
   ]
  },
  {
   "cell_type": "code",
   "execution_count": null,
   "metadata": {
    "ExecuteTime": {
     "end_time": "2020-09-16T09:40:44.139481Z",
     "start_time": "2020-09-16T09:40:22.787625Z"
    },
    "hidden": true
   },
   "outputs": [],
   "source": [
    "#!/bin/python3\n",
    "\n",
    "import math\n",
    "import os\n",
    "import random\n",
    "import re\n",
    "import sys\n",
    "\n",
    "# Complete the angryProfessor function below.\n",
    "def angryProfessor(k, a):\n",
    "    if((len(a) - len([a.count(i) for i in a if i > 0])) >= k):\n",
    "        return 'NO'\n",
    "    else:\n",
    "        return 'YES'\n",
    "\n",
    "if __name__ == '__main__':\n",
    "    #fptr = open(os.environ['OUTPUT_PATH'], 'w')\n",
    "\n",
    "    t = int(input())\n",
    "\n",
    "    for t_itr in range(t):\n",
    "        nk = input().split()\n",
    "\n",
    "        n = int(nk[0])\n",
    "\n",
    "        k = int(nk[1])\n",
    "\n",
    "        a = list(map(int, input().rstrip().split()))\n",
    "\n",
    "        result = angryProfessor(k, a)\n",
    "        \n",
    "        print(result)\n",
    "\n",
    "        #fptr.write(result + '\\n')\n",
    "\n",
    "    #fptr.close()\n"
   ]
  },
  {
   "cell_type": "markdown",
   "metadata": {
    "heading_collapsed": true
   },
   "source": [
    "## Day 22: Binary Search Trees"
   ]
  },
  {
   "cell_type": "code",
   "execution_count": null,
   "metadata": {
    "ExecuteTime": {
     "end_time": "2020-09-17T03:58:15.457045Z",
     "start_time": "2020-09-17T03:58:09.667966Z"
    },
    "hidden": true
   },
   "outputs": [],
   "source": [
    "class Node:\n",
    "    def __init__(self,data):\n",
    "        self.right=self.left=None\n",
    "        self.data = data\n",
    "class Solution:\n",
    "    def insert(self,root,data):\n",
    "        if root==None:\n",
    "            return Node(data)\n",
    "        else:\n",
    "            if data<=root.data:\n",
    "                cur=self.insert(root.left,data)\n",
    "                root.left=cur\n",
    "            else:\n",
    "                cur=self.insert(root.right,data)\n",
    "                root.right=cur\n",
    "        return root\n",
    "\n",
    "    def getHeight(self,root):\n",
    "        if root == None:\n",
    "            return -1\n",
    "        else:\n",
    "            return (1+max(self.getHeight(root.left), self.getHeight(root.right)))\n",
    "\n",
    "T=int(input())\n",
    "myTree=Solution()\n",
    "root=None\n",
    "for i in range(T):\n",
    "    data=int(input())\n",
    "    root=myTree.insert(root,data)\n",
    "height=myTree.getHeight(root)\n",
    "print(height)"
   ]
  },
  {
   "cell_type": "markdown",
   "metadata": {
    "heading_collapsed": true
   },
   "source": [
    "## Day 23: BST Level-Order Traversal"
   ]
  },
  {
   "cell_type": "code",
   "execution_count": null,
   "metadata": {
    "ExecuteTime": {
     "end_time": "2020-09-17T05:02:29.949488Z",
     "start_time": "2020-09-17T05:02:15.803326Z"
    },
    "code_folding": [],
    "hidden": true
   },
   "outputs": [],
   "source": [
    "import sys\n",
    "\n",
    "class Node:\n",
    "    def __init__(self,data):\n",
    "        self.right=self.left=None\n",
    "        self.data = data\n",
    "class Solution:\n",
    "    def insert(self,root,data):\n",
    "        if root==None:\n",
    "            return Node(data)\n",
    "        else:\n",
    "            if data<=root.data:\n",
    "                cur=self.insert(root.left,data)\n",
    "                root.left=cur\n",
    "            else:\n",
    "                cur=self.insert(root.right,data)\n",
    "                root.right=cur\n",
    "        return root\n",
    "    \n",
    "    def levelOrder(self,root):\n",
    "        q = [root] if root else []\n",
    "        \n",
    "        while q:\n",
    "            node = q.pop()\n",
    "            print(node.data, end = ' ')\n",
    "            \n",
    "            if node.left:\n",
    "                q.insert(0, node.left)\n",
    "            if node.right:\n",
    "                q.insert(0, node.right)\n",
    "    \n",
    "T=int(input())\n",
    "myTree=Solution()\n",
    "root=None\n",
    "for i in range(T):\n",
    "    data=int(input())\n",
    "    root=myTree.insert(root,data)\n",
    "myTree.levelOrder(root)\n"
   ]
  },
  {
   "cell_type": "markdown",
   "metadata": {
    "heading_collapsed": true
   },
   "source": [
    "## Day 24: More Linked Lists"
   ]
  },
  {
   "cell_type": "code",
   "execution_count": 4,
   "metadata": {
    "ExecuteTime": {
     "end_time": "2020-09-18T04:47:47.450599Z",
     "start_time": "2020-09-18T04:47:44.555859Z"
    },
    "code_folding": [
     5,
     17
    ],
    "hidden": true
   },
   "outputs": [
    {
     "name": "stdout",
     "output_type": "stream",
     "text": [
      "5\n",
      "1\n",
      "1\n",
      "1\n",
      "1\n",
      "1\n",
      "1 "
     ]
    }
   ],
   "source": [
    "class Node:\n",
    "    def __init__(self,data):\n",
    "        self.data = data\n",
    "        self.next = None \n",
    "class Solution: \n",
    "    def insert(self,head,data):\n",
    "            p = Node(data)\n",
    "            if head==None:\n",
    "                head=p\n",
    "            elif head.next==None:\n",
    "                head.next=p\n",
    "            else:\n",
    "                start=head\n",
    "                while(start.next!=None):\n",
    "                    start=start.next\n",
    "                start.next=p\n",
    "            return head  \n",
    "    def display(self,head):\n",
    "        current = head\n",
    "        while current:\n",
    "            print(current.data,end=' ')\n",
    "            current = current.next\n",
    "\n",
    "    def removeDuplicates(self,head):\n",
    "        start = head\n",
    "        element = start.next\n",
    "        values = []\n",
    "        while(element):\n",
    "            if(start.data not in values):\n",
    "                values.append(start.data)\n",
    "            if(element.data in values):\n",
    "                start.next = element.next\n",
    "                element = element.next\n",
    "                continue\n",
    "            start = element\n",
    "            element = element.next\n",
    "        return head\n",
    "        \n",
    "mylist= Solution()\n",
    "T=int(input())\n",
    "head=None\n",
    "for i in range(T):\n",
    "    data=int(input())\n",
    "    head=mylist.insert(head,data)    \n",
    "head=mylist.removeDuplicates(head)\n",
    "mylist.display(head); "
   ]
  },
  {
   "cell_type": "markdown",
   "metadata": {
    "heading_collapsed": true
   },
   "source": [
    "## Day 25: Running Time and Complexity"
   ]
  },
  {
   "cell_type": "code",
   "execution_count": 18,
   "metadata": {
    "ExecuteTime": {
     "end_time": "2020-09-20T04:37:37.429932Z",
     "start_time": "2020-09-20T04:37:34.589510Z"
    },
    "hidden": true
   },
   "outputs": [
    {
     "name": "stdout",
     "output_type": "stream",
     "text": [
      "1\n",
      "2147483647\n",
      "Prime\n"
     ]
    }
   ],
   "source": [
    "# Enter your code here. Read input from STDIN. Print output to STDOUT\n",
    "import math\n",
    "n = int(input())\n",
    "\n",
    "def is_prime(num):\n",
    "    if (num<=1):\n",
    "        return \"Not prime\"\n",
    "    if (num<=3):\n",
    "        return \"Prime\"\n",
    "    if((num%2 == 0) or (num%3 == 0)):\n",
    "        return \"Not prime\"\n",
    "    \n",
    "    for i in range(5, int(math.sqrt(num))):\n",
    "        if((num%i == 0)):\n",
    "            return \"Not prime\"\n",
    "    return \"Prime\"\n",
    "\n",
    "for i in range(n):\n",
    "    num = int(input())\n",
    "    result = is_prime(num)\n",
    "    print(result)\n"
   ]
  },
  {
   "cell_type": "markdown",
   "metadata": {
    "heading_collapsed": true
   },
   "source": [
    "## Day 26: Nested Logic"
   ]
  },
  {
   "cell_type": "code",
   "execution_count": 6,
   "metadata": {
    "ExecuteTime": {
     "end_time": "2020-09-20T05:03:01.565805Z",
     "start_time": "2020-09-20T05:02:48.367301Z"
    },
    "hidden": true
   },
   "outputs": [
    {
     "name": "stdout",
     "output_type": "stream",
     "text": [
      "1 1 2020\n",
      "31 12 2009\n",
      "10000\n"
     ]
    }
   ],
   "source": [
    "return_date = list(map(int, input().split()))\n",
    "issue_date = list(map(int, input().split()))\n",
    "\n",
    "if(issue_date[-1] > return_date[-1]):\n",
    "    print(0)\n",
    "elif(issue_date[-1] < return_date[-1]):\n",
    "    print(10000)\n",
    "\n",
    "elif(issue_date[1] > return_date[1]):\n",
    "    print(0)\n",
    "elif(issue_date[1] < return_date[1]):\n",
    "    print(500*(return_date[1] - issue_date[1]))\n",
    "\n",
    "elif(issue_date[0] > return_date[0]):\n",
    "    print(0)\n",
    "elif(issue_date[0] < return_date[0]):\n",
    "    print(15*(return_date[0] - issue_date[0]))\n",
    "    \n",
    "else:\n",
    "    print(0)"
   ]
  },
  {
   "cell_type": "code",
   "execution_count": null,
   "metadata": {
    "hidden": true
   },
   "outputs": [],
   "source": []
  },
  {
   "cell_type": "markdown",
   "metadata": {
    "heading_collapsed": true
   },
   "source": [
    "## Beautiful Days at the Movies"
   ]
  },
  {
   "cell_type": "code",
   "execution_count": 22,
   "metadata": {
    "ExecuteTime": {
     "end_time": "2020-09-20T05:35:53.487215Z",
     "start_time": "2020-09-20T05:35:49.761121Z"
    },
    "hidden": true
   },
   "outputs": [
    {
     "name": "stdout",
     "output_type": "stream",
     "text": [
      "20 23 6\n",
      "2\n"
     ]
    }
   ],
   "source": [
    "#!/bin/python3\n",
    "\n",
    "import math\n",
    "import os\n",
    "import random\n",
    "import re\n",
    "import sys\n",
    "\n",
    "def reverse(num):\n",
    "    return int(str(num)[::-1])\n",
    "# Complete the beautifulDays function below.\n",
    "def beautifulDays(i, j, k):\n",
    "    count = 0\n",
    "    for num in range(i, j+1):\n",
    "        if(abs(num - reverse(num))%k == 0):\n",
    "            count+=1\n",
    "    return count\n",
    "\n",
    "if __name__ == '__main__':\n",
    "    #fptr = open(os.environ['OUTPUT_PATH'], 'w')\n",
    "\n",
    "    ijk = input().split()\n",
    "    i = int(ijk[0])\n",
    "    j = int(ijk[1])\n",
    "    k = int(ijk[2])\n",
    "    result = beautifulDays(i, j, k)\n",
    "    \n",
    "    print(result)\n",
    "\n",
    "    #fptr.write(str(result) + '\\n')\n",
    "\n",
    "    #fptr.close()\n"
   ]
  },
  {
   "cell_type": "markdown",
   "metadata": {
    "heading_collapsed": true
   },
   "source": [
    "## Day 27: Testing"
   ]
  },
  {
   "cell_type": "code",
   "execution_count": null,
   "metadata": {
    "hidden": true
   },
   "outputs": [],
   "source": [
    "def minimum_index(seq):\n",
    "    if len(seq) == 0:\n",
    "        raise ValueError(\"Cannot get the minimum value index from an empty sequence\")\n",
    "    min_idx = 0\n",
    "    for i in range(1, len(seq)):\n",
    "        if seq[i] < seq[min_idx]:\n",
    "            min_idx = i\n",
    "    return min_idx\n",
    "class TestDataEmptyArray(object):\n",
    "    \n",
    "    @staticmethod\n",
    "    def get_array():\n",
    "        # complete this function\n",
    "        return list()\n",
    "\n",
    "class TestDataUniqueValues(object):\n",
    "\n",
    "    @staticmethod\n",
    "    def get_array():\n",
    "        # complete this function\n",
    "        return ([5, 4, 6, -1, 0])\n",
    "\n",
    "    @staticmethod\n",
    "    def get_expected_result():\n",
    "        # complete this function\n",
    "        return 3\n",
    "\n",
    "class TestDataExactlyTwoDifferentMinimums(object):\n",
    "\n",
    "    @staticmethod\n",
    "    def get_array():\n",
    "        # complete this function\n",
    "        return ([1, 2, 4, 1, 5])\n",
    "\n",
    "    @staticmethod\n",
    "    def get_expected_result():\n",
    "        # complete this function\n",
    "        return 0\n",
    "\n",
    "\n",
    "def TestWithEmptyArray():\n",
    "    try:\n",
    "        seq = TestDataEmptyArray.get_array()\n",
    "        result = minimum_index(seq)\n",
    "    except ValueError as e:\n",
    "        pass\n",
    "    else:\n",
    "        assert False\n",
    "\n",
    "\n",
    "def TestWithUniqueValues():\n",
    "    seq = TestDataUniqueValues.get_array()\n",
    "    assert len(seq) >= 2\n",
    "\n",
    "    assert len(list(set(seq))) == len(seq)\n",
    "\n",
    "    expected_result = TestDataUniqueValues.get_expected_result()\n",
    "    result = minimum_index(seq)\n",
    "    assert result == expected_result\n",
    "\n",
    "\n",
    "def TestiWithExactyTwoDifferentMinimums():\n",
    "    seq = TestDataExactlyTwoDifferentMinimums.get_array()\n",
    "    assert len(seq) >= 2\n",
    "    tmp = sorted(seq)\n",
    "    assert tmp[0] == tmp[1] and (len(tmp) == 2 or tmp[1] < tmp[2])\n",
    "\n",
    "    expected_result = TestDataExactlyTwoDifferentMinimums.get_expected_result()\n",
    "    result = minimum_index(seq)\n",
    "    assert result == expected_result\n",
    "\n",
    "TestWithEmptyArray()\n",
    "TestWithUniqueValues()\n",
    "TestiWithExactyTwoDifferentMinimums()\n",
    "print(\"OK\")\n",
    "\n"
   ]
  },
  {
   "cell_type": "markdown",
   "metadata": {
    "heading_collapsed": true
   },
   "source": [
    "## Viral Advertising"
   ]
  },
  {
   "cell_type": "code",
   "execution_count": 7,
   "metadata": {
    "ExecuteTime": {
     "end_time": "2020-09-21T03:29:55.009384Z",
     "start_time": "2020-09-21T03:29:54.993745Z"
    },
    "hidden": true
   },
   "outputs": [
    {
     "name": "stdout",
     "output_type": "stream",
     "text": [
      "15\n"
     ]
    }
   ],
   "source": [
    "#!/bin/python3\n",
    "\n",
    "import math\n",
    "import os\n",
    "import random\n",
    "import re\n",
    "import sys\n",
    "\n",
    "# Complete the viralAdvertising function below.\n",
    "def viralAdvertising(n):\n",
    "    cummulative = 0\n",
    "    shared = 5\n",
    "    for day in range(1, n+1):\n",
    "        liked = shared//2\n",
    "        cummulative = cummulative+liked\n",
    "        shared = liked*3\n",
    "    return cummulative\n",
    "         \n",
    "if __name__ == '__main__':\n",
    "    #fptr = open(os.environ['OUTPUT_PATH'], 'w')\n",
    "\n",
    "    #n = int(input())\n",
    "\n",
    "    result = viralAdvertising(4)\n",
    "    \n",
    "    print(result)\n",
    "\n",
    "    #fptr.write(str(result) + '\\n')\n",
    "\n",
    "    #fptr.close()\n"
   ]
  },
  {
   "cell_type": "markdown",
   "metadata": {
    "heading_collapsed": true
   },
   "source": [
    "## Save the Prisoner!"
   ]
  },
  {
   "cell_type": "code",
   "execution_count": 9,
   "metadata": {
    "ExecuteTime": {
     "end_time": "2020-09-21T03:47:03.332652Z",
     "start_time": "2020-09-21T03:46:52.093780Z"
    },
    "hidden": true
   },
   "outputs": [
    {
     "name": "stdout",
     "output_type": "stream",
     "text": [
      "1\n",
      "46934 543563655 46743\n",
      "67743\n"
     ]
    }
   ],
   "source": [
    "#!/bin/python3\n",
    "\n",
    "import math\n",
    "import os\n",
    "import random\n",
    "import re\n",
    "import sys\n",
    "\n",
    "# Complete the saveThePrisoner function below.\n",
    "def saveThePrisoner(n, m, s):\n",
    "    return(((S - 1 + M - 1) % N) + 1)\n",
    "\n",
    "if __name__ == '__main__':\n",
    "    #fptr = open(os.environ['OUTPUT_PATH'], 'w')\n",
    "\n",
    "    t = int(input())\n",
    "\n",
    "    for t_itr in range(t):\n",
    "        nms = input().split()\n",
    "\n",
    "        n = int(nms[0])\n",
    "\n",
    "        m = int(nms[1])\n",
    "\n",
    "        s = int(nms[2])\n",
    "\n",
    "        result = saveThePrisoner(n, m, s)\n",
    "        \n",
    "        print(result)\n",
    "\n",
    "        #fptr.write(str(result) + '\\n')\n",
    "\n",
    "    #fptr.close()\n"
   ]
  },
  {
   "cell_type": "markdown",
   "metadata": {
    "heading_collapsed": true
   },
   "source": [
    "## Day 28: RegEx, Patterns, and Intro to Databases"
   ]
  },
  {
   "cell_type": "code",
   "execution_count": 19,
   "metadata": {
    "ExecuteTime": {
     "end_time": "2020-09-22T02:42:49.781699Z",
     "start_time": "2020-09-22T02:42:30.532293Z"
    },
    "hidden": true
   },
   "outputs": [
    {
     "name": "stdout",
     "output_type": "stream",
     "text": [
      "3\n",
      "wss ws@gmail.com\n",
      "qwd w@gmail.com\n",
      "test test@gmail.com\n",
      "<class 'list'>\n"
     ]
    }
   ],
   "source": [
    "#!/bin/python3\n",
    "\n",
    "import math\n",
    "import os\n",
    "import random\n",
    "import re\n",
    "import sys\n",
    "\n",
    "\n",
    "\n",
    "if __name__ == '__main__':\n",
    "    N = int(input())\n",
    "    result = []\n",
    "\n",
    "    for N_itr in range(N):\n",
    "        firstNameEmailID = input().split()\n",
    "        firstName = firstNameEmailID[0]\n",
    "        emailID = firstNameEmailID[1]\n",
    "        # check if the email id is gmail or something else\n",
    "        x = re.findall(\"^[\\w\\d._]+@gmail\\.com$\", emailID)\n",
    "        if(x):\n",
    "            result.append(firstName)\n",
    "        # sort list alphabetically and print\n",
    "        result = sorted(result)\n",
    "    print(*result, sep = '\\n')        \n"
   ]
  },
  {
   "cell_type": "markdown",
   "metadata": {
    "heading_collapsed": true
   },
   "source": [
    "## Circular Array Rotation"
   ]
  },
  {
   "cell_type": "code",
   "execution_count": 45,
   "metadata": {
    "ExecuteTime": {
     "end_time": "2020-09-22T03:12:38.953301Z",
     "start_time": "2020-09-22T03:12:33.664670Z"
    },
    "hidden": true
   },
   "outputs": [
    {
     "name": "stdout",
     "output_type": "stream",
     "text": [
      "3 2 3\n",
      "1 2 3\n",
      "0\n",
      "1\n",
      "2\n",
      "2\n",
      "3\n",
      "1\n"
     ]
    }
   ],
   "source": [
    "## !/bin/python3\n",
    "\n",
    "import math\n",
    "import os\n",
    "import random\n",
    "import re\n",
    "import sys\n",
    "\n",
    "# Complete the circularArrayRotation function below.\n",
    "def circularArrayRotation(a, k, queries):\n",
    "    result = []\n",
    "    for i in range(k):\n",
    "        val = a.pop()\n",
    "        a.insert(0, val)\n",
    "    for i in queries:\n",
    "        result.append(a[i])\n",
    "    return result\n",
    "    \n",
    "if __name__ == '__main__':\n",
    "    #fptr = open(os.environ['OUTPUT_PATH'], 'w')\n",
    "    nkq = input().split()\n",
    "    n = int(nkq[0])\n",
    "    k = int(nkq[1])\n",
    "    q = int(nkq[2])\n",
    "    a = list(map(int, input().rstrip().split()))\n",
    "    queries = []\n",
    "    for _ in range(q):\n",
    "        queries_item = int(input())\n",
    "        queries.append(queries_item)\n",
    "    result = circularArrayRotation(a, k, queries)\n",
    "    print(*result, sep = '\\n')\n",
    "\n",
    "    #fptr.write('\\n'.join(map(str, result)))\n",
    "    #fptr.write('\\n')\n",
    "\n",
    "   # fptr.close()\n"
   ]
  },
  {
   "cell_type": "markdown",
   "metadata": {
    "heading_collapsed": true
   },
   "source": [
    "## Sequence Equation"
   ]
  },
  {
   "cell_type": "code",
   "execution_count": 50,
   "metadata": {
    "ExecuteTime": {
     "end_time": "2020-09-22T06:31:29.066171Z",
     "start_time": "2020-09-22T06:31:23.427596Z"
    },
    "hidden": true
   },
   "outputs": [
    {
     "name": "stdout",
     "output_type": "stream",
     "text": [
      "5\n",
      "4 3 5 1 2\n",
      "[1, 3, 5, 4, 2]\n"
     ]
    }
   ],
   "source": [
    "#!/bin/python\n",
    "\n",
    "import math\n",
    "import os\n",
    "import random\n",
    "import re\n",
    "import sys\n",
    "\n",
    "# Complete the permutationEquation function below.\n",
    "def permutationEquation(p):\n",
    "    x = [i for i in range(1, max(p)+1)]\n",
    "    result = []\n",
    "    for i in x:\n",
    "        first_index = p.index(i)+1\n",
    "        second_index = p.index(first_index)+1\n",
    "        result.append(second_index)\n",
    "    return result\n",
    "    \n",
    "if __name__ == '__main__':\n",
    "    #fptr = open(os.environ['OUTPUT_PATH'], 'w')\n",
    "    n = int(input())\n",
    "    p = list(map(int, input().rstrip().split()))\n",
    "    result = permutationEquation(p)\n",
    "    print(result)\n",
    "\n",
    "    #fptr.write('\\n'.join(map(str, result)))\n",
    "    #fptr.write('\\n')\n",
    "\n",
    "    #fptr.close()"
   ]
  },
  {
   "cell_type": "markdown",
   "metadata": {
    "heading_collapsed": true
   },
   "source": [
    "## Day 29: Bitwise AND"
   ]
  },
  {
   "cell_type": "code",
   "execution_count": 1,
   "metadata": {
    "ExecuteTime": {
     "end_time": "2020-09-24T06:21:14.886709Z",
     "start_time": "2020-09-24T06:21:14.868710Z"
    },
    "hidden": true
   },
   "outputs": [
    {
     "name": "stdout",
     "output_type": "stream",
     "text": [
      "3\n"
     ]
    }
   ],
   "source": [
    "x = [1, 2, 3, 4, 5, 6]\n",
    "k = 4\n",
    "print(max([i for i in x if i<k]))"
   ]
  },
  {
   "cell_type": "code",
   "execution_count": 2,
   "metadata": {
    "ExecuteTime": {
     "end_time": "2020-09-24T06:21:23.100054Z",
     "start_time": "2020-09-24T06:21:19.154444Z"
    },
    "hidden": true
   },
   "outputs": [
    {
     "name": "stdout",
     "output_type": "stream",
     "text": [
      "1\n",
      "18 9\n",
      "8\n"
     ]
    }
   ],
   "source": [
    "# !/bin/python3\n",
    "\n",
    "import math\n",
    "import os\n",
    "import random\n",
    "import re\n",
    "import sys\n",
    "\n",
    "\n",
    "\n",
    "if __name__ == '__main__':\n",
    "    t = int(input())\n",
    "\n",
    "    for t_itr in range(t):\n",
    "        nk = input().split()\n",
    "\n",
    "        n = int(nk[0])\n",
    "\n",
    "        k = int(nk[1])\n",
    "        print(k-1 if ((k-1)|k) <= n else (k-2))"
   ]
  },
  {
   "cell_type": "code",
   "execution_count": null,
   "metadata": {
    "hidden": true
   },
   "outputs": [],
   "source": []
  },
  {
   "cell_type": "markdown",
   "metadata": {
    "heading_collapsed": true
   },
   "source": [
    "## Extra Long Factorials"
   ]
  },
  {
   "cell_type": "code",
   "execution_count": 5,
   "metadata": {
    "ExecuteTime": {
     "end_time": "2020-09-24T06:54:53.189012Z",
     "start_time": "2020-09-24T06:54:51.880516Z"
    },
    "hidden": true
   },
   "outputs": [
    {
     "name": "stdout",
     "output_type": "stream",
     "text": [
      "30\n",
      "265252859812191058636308480000000\n"
     ]
    }
   ],
   "source": [
    "#### !/bin/python3\n",
    "\n",
    "import math\n",
    "import os\n",
    "import random\n",
    "import re\n",
    "import sys\n",
    "\n",
    "# Complete the extraLongFactorials function below.\n",
    "def extraLongFactorials(n):\n",
    "    result = 0\n",
    "    if(n==1):\n",
    "        return 1\n",
    "    else:\n",
    "        return(n*extraLongFactorials(n-1))\n",
    "if __name__ == '__main__':\n",
    "    n = int(input())\n",
    "\n",
    "    print(extraLongFactorials(n))\n",
    "    \n"
   ]
  },
  {
   "cell_type": "markdown",
   "metadata": {
    "heading_collapsed": true
   },
   "source": [
    "## Non-Divisible Subset"
   ]
  },
  {
   "cell_type": "code",
   "execution_count": 11,
   "metadata": {
    "ExecuteTime": {
     "end_time": "2020-09-24T09:32:27.084846Z",
     "start_time": "2020-09-24T09:32:12.885240Z"
    },
    "hidden": true
   },
   "outputs": [
    {
     "name": "stdout",
     "output_type": "stream",
     "text": [
      "7 4\n",
      "19 10 12 10 24 25 22\n",
      "3\n"
     ]
    }
   ],
   "source": [
    "#!/bin/python3\n",
    "\n",
    "import math\n",
    "import os\n",
    "import random\n",
    "import re\n",
    "import sys\n",
    "\n",
    "#\n",
    "# Complete the 'nonDivisibleSubset' function below.\n",
    "#\n",
    "# The function is expected to return an INTEGER.\n",
    "# The function accepts following parameters:\n",
    "#  1. INTEGER k\n",
    "#  2. INTEGER_ARRAY s\n",
    "#\n",
    "\n",
    "def nonDivisibleSubset(k, s):\n",
    "    # Write your code here\n",
    "    f = [0 for i in range(k)]\n",
    "    for i in range(len(s)):\n",
    "        f[s[i] % k]+=1\n",
    "    if(k%2 == 0):\n",
    "        f[k//2] = min(1, f[k//2])\n",
    "    res = min(1, f[0])\n",
    "    \n",
    "    for i in range(1, (k//2)+1):\n",
    "        res+=max(f[i], f[k-i])\n",
    "    return res\n",
    "        \n",
    "\n",
    "if __name__ == '__main__':\n",
    "    #fptr = open(os.environ['OUTPUT_PATH'], 'w')\n",
    "\n",
    "    first_multiple_input = input().rstrip().split()\n",
    "\n",
    "    n = int(first_multiple_input[0])\n",
    "\n",
    "    k = int(first_multiple_input[1])\n",
    "\n",
    "    s = list(map(int, input().rstrip().split()))\n",
    "\n",
    "    result = nonDivisibleSubset(k, s)\n",
    "    print(result)\n",
    "\n",
    "    #fptr.write(str(result) + '\\n')\n",
    "\n",
    "    #fptr.close()\n"
   ]
  },
  {
   "cell_type": "markdown",
   "metadata": {
    "heading_collapsed": true
   },
   "source": [
    "## Queen's Attack II"
   ]
  },
  {
   "cell_type": "code",
   "execution_count": 69,
   "metadata": {
    "ExecuteTime": {
     "end_time": "2020-09-25T06:08:08.070205Z",
     "start_time": "2020-09-25T06:08:08.041939Z"
    },
    "hidden": true
   },
   "outputs": [
    {
     "name": "stdout",
     "output_type": "stream",
     "text": [
      "horizontal: [(1, 4), (2, 4), (3, 4), (4, 4), (5, 4)]\n",
      "vertical: [(3, 1), (3, 2), (3, 3), (3, 4), (3, 5)]\n",
      "right_diagonal: [(1, 2), (2, 3), (3, 4), (3, 4), (4, 5)]\n",
      "left_diagonal: [(5, 2), (4, 3), (3, 4), (3, 4), (2, 5)]\n"
     ]
    },
    {
     "data": {
      "text/plain": [
       "'for obs in obstacles:\\n    for dirr in directions:\\n        if(obs in dirr):\\n            if(obs < ())\\n'"
      ]
     },
     "execution_count": 69,
     "metadata": {},
     "output_type": "execute_result"
    }
   ],
   "source": [
    "# My attempt incomplete\n",
    "n = 5\n",
    "c_q = 3\n",
    "r_q = 4\n",
    "chess_board = [[0 for i in range(0, n+1)] for j in range(0, n+1)]\n",
    "vertical = [(c_q,j) for j in range(1, n+1)]\n",
    "horizontal = [(i, r_q) for i in range(1, n+1)]\n",
    "right_diagonal = []\n",
    "left_diagonal = []\n",
    "\n",
    "for i,j in vertical:\n",
    "    chess_board[i][j] = 1\n",
    "for i,j in horizontal:\n",
    "    chess_board[i][j] = 1\n",
    "\n",
    "# Make right diagonal\n",
    "if((r_q < n) and (c_q < n)):\n",
    "    if(r_q > c_q):\n",
    "        j=c_q\n",
    "        for i in range(r_q, n+1):\n",
    "            right_diagonal.append((j, i))\n",
    "            j+=1\n",
    "        i = r_q\n",
    "        j = c_q\n",
    "        for j in range(c_q, 0, -1):\n",
    "            right_diagonal.append((j, i))\n",
    "            i-=1\n",
    "    if(r_q < c_q):\n",
    "        i=r_q\n",
    "        for j in range(c_q, n+1):\n",
    "            right_diagonal.append((j, i))\n",
    "            i+=1\n",
    "        i = r_q\n",
    "        j = c_q\n",
    "        for i in range(r_q, 0, -1):\n",
    "            right_diagonal.append((j, i))\n",
    "            j-=1\n",
    "for i,j in right_diagonal:\n",
    "    chess_board[i][j] = 1\n",
    "\n",
    "# make left diagonal\n",
    "if((r_q < n) and (c_q < n)):\n",
    "    if(r_q > c_q):\n",
    "        j=c_q\n",
    "        for i in range(r_q, n+1):\n",
    "            left_diagonal.append((j, i))\n",
    "            j-=1\n",
    "        i = r_q\n",
    "        j = c_q\n",
    "        for j in range(c_q, n+1):\n",
    "            left_diagonal.append((j, i))\n",
    "            i-=1\n",
    "    \n",
    "    if(r_q < c_q):\n",
    "        i=r_q\n",
    "        for j in range(c_q, n+1):\n",
    "            left_diagonal.append((j, i))\n",
    "            i+=1\n",
    "        i = r_q\n",
    "        j = c_q\n",
    "        for i in range(r_q, 0, -1):\n",
    "            left_diagonal.append((j, i))\n",
    "            j-=1\n",
    "for i,j in left_diagonal:\n",
    "    chess_board[i][j] = 1\n",
    "\n",
    "horizontal.sort()\n",
    "vertical.sort()\n",
    "right_diagonal.sort()\n",
    "left_diagonal.sort(reverse = True)\n",
    "print(\"horizontal: {}\".format(horizontal))\n",
    "print(\"vertical: {}\".format(vertical))\n",
    "print(\"right_diagonal: {}\".format(right_diagonal))\n",
    "print(\"left_diagonal: {}\".format(left_diagonal))\n",
    "obstacles = [(5, 5), (4, 2), (2, 3)]\n",
    "directions = (horizontal, vertical, right_diagonal)\n",
    "for obs in obstacles:\n",
    "    for dirr in directions:\n",
    "        if(obs in dirr):\n",
    "            if(obs < ((c_q, r_q))):\n",
    "                index = dirr.index(obs)\n",
    "                for ind in range(index+1):\n",
    "                    dirr.remove(dirr[i])\n",
    "            \n",
    "            \n",
    "        \n",
    "        \n",
    "    "
   ]
  },
  {
   "cell_type": "code",
   "execution_count": 1,
   "metadata": {
    "ExecuteTime": {
     "end_time": "2020-09-25T03:45:30.506980Z",
     "start_time": "2020-09-25T03:45:30.436804Z"
    },
    "hidden": true
   },
   "outputs": [
    {
     "ename": "KeyError",
     "evalue": "'OUTPUT_PATH'",
     "output_type": "error",
     "traceback": [
      "\u001b[1;31m---------------------------------------------------------------------------\u001b[0m",
      "\u001b[1;31mKeyError\u001b[0m                                  Traceback (most recent call last)",
      "\u001b[1;32m<ipython-input-1-d79923665638>\u001b[0m in \u001b[0;36m<module>\u001b[1;34m\u001b[0m\n\u001b[0;32m     13\u001b[0m \u001b[1;33m\u001b[0m\u001b[0m\n\u001b[0;32m     14\u001b[0m \u001b[1;32mif\u001b[0m \u001b[0m__name__\u001b[0m \u001b[1;33m==\u001b[0m \u001b[1;34m'__main__'\u001b[0m\u001b[1;33m:\u001b[0m\u001b[1;33m\u001b[0m\u001b[1;33m\u001b[0m\u001b[0m\n\u001b[1;32m---> 15\u001b[1;33m     \u001b[0mfptr\u001b[0m \u001b[1;33m=\u001b[0m \u001b[0mopen\u001b[0m\u001b[1;33m(\u001b[0m\u001b[0mos\u001b[0m\u001b[1;33m.\u001b[0m\u001b[0menviron\u001b[0m\u001b[1;33m[\u001b[0m\u001b[1;34m'OUTPUT_PATH'\u001b[0m\u001b[1;33m]\u001b[0m\u001b[1;33m,\u001b[0m \u001b[1;34m'w'\u001b[0m\u001b[1;33m)\u001b[0m\u001b[1;33m\u001b[0m\u001b[1;33m\u001b[0m\u001b[0m\n\u001b[0m\u001b[0;32m     16\u001b[0m \u001b[1;33m\u001b[0m\u001b[0m\n\u001b[0;32m     17\u001b[0m     \u001b[0mnk\u001b[0m \u001b[1;33m=\u001b[0m \u001b[0minput\u001b[0m\u001b[1;33m(\u001b[0m\u001b[1;33m)\u001b[0m\u001b[1;33m.\u001b[0m\u001b[0msplit\u001b[0m\u001b[1;33m(\u001b[0m\u001b[1;33m)\u001b[0m\u001b[1;33m\u001b[0m\u001b[1;33m\u001b[0m\u001b[0m\n",
      "\u001b[1;32m~\\anaconda3\\lib\\os.py\u001b[0m in \u001b[0;36m__getitem__\u001b[1;34m(self, key)\u001b[0m\n\u001b[0;32m    677\u001b[0m         \u001b[1;32mexcept\u001b[0m \u001b[0mKeyError\u001b[0m\u001b[1;33m:\u001b[0m\u001b[1;33m\u001b[0m\u001b[1;33m\u001b[0m\u001b[0m\n\u001b[0;32m    678\u001b[0m             \u001b[1;31m# raise KeyError with the original key value\u001b[0m\u001b[1;33m\u001b[0m\u001b[1;33m\u001b[0m\u001b[1;33m\u001b[0m\u001b[0m\n\u001b[1;32m--> 679\u001b[1;33m             \u001b[1;32mraise\u001b[0m \u001b[0mKeyError\u001b[0m\u001b[1;33m(\u001b[0m\u001b[0mkey\u001b[0m\u001b[1;33m)\u001b[0m \u001b[1;32mfrom\u001b[0m \u001b[1;32mNone\u001b[0m\u001b[1;33m\u001b[0m\u001b[1;33m\u001b[0m\u001b[0m\n\u001b[0m\u001b[0;32m    680\u001b[0m         \u001b[1;32mreturn\u001b[0m \u001b[0mself\u001b[0m\u001b[1;33m.\u001b[0m\u001b[0mdecodevalue\u001b[0m\u001b[1;33m(\u001b[0m\u001b[0mvalue\u001b[0m\u001b[1;33m)\u001b[0m\u001b[1;33m\u001b[0m\u001b[1;33m\u001b[0m\u001b[0m\n\u001b[0;32m    681\u001b[0m \u001b[1;33m\u001b[0m\u001b[0m\n",
      "\u001b[1;31mKeyError\u001b[0m: 'OUTPUT_PATH'"
     ]
    }
   ],
   "source": [
    "#!/bin/python3\n",
    "\n",
    "import math\n",
    "import os\n",
    "import random\n",
    "import re\n",
    "import sys\n",
    "\n",
    "# Complete the queensAttack function below.\n",
    "def queensAttack(n, k, r_q, c_q, obstacles):\n",
    "    u = n - r_q\n",
    "    d = r_q-1\n",
    "    r = n - c_q\n",
    "    l = c_q-1\n",
    "    ru = min(u, r)\n",
    "    rd = min(r,d)\n",
    "    lu = min(l,u)\n",
    "    ld = min(l,d)\n",
    "    for o in obstacles:\n",
    "        if o[1] == c_q:\n",
    "            if o[0] < r_q:\n",
    "                d = min(d, r_q-1-o[0])\n",
    "            else:\n",
    "                u = min(u, o[0]-r_q-1)\n",
    "        elif o[0] == r_q:\n",
    "            if o[1] < c_q: l = min(l, c_q-1-o[1])\n",
    "            else: r = min(r, o[1]-c_q-1)\n",
    "        elif abs(o[0]-r_q) == abs(o[1]-c_q):\n",
    "            if o[1]>c_q:\n",
    "                if o[0]>r_q: ru = min(ru, o[1]-c_q-1)\n",
    "                else: rd = min(rd, o[1]-c_q-1)\n",
    "            else:\n",
    "                if o[0]>r_q: lu = min(lu, c_q-1-o[1])\n",
    "                else: ld = min(ld, c_q-1-o[1])\n",
    "                \n",
    "    return u + d + r + l + ru + rd + lu + ld\n",
    "\n",
    "if __name__ == '__main__':\n",
    "    fptr = open(os.environ['OUTPUT_PATH'], 'w')\n",
    "\n",
    "    nk = input().split()\n",
    "\n",
    "    n = int(nk[0])\n",
    "\n",
    "    k = int(nk[1])\n",
    "\n",
    "    r_qC_q = input().split()\n",
    "\n",
    "    r_q = int(r_qC_q[0])\n",
    "\n",
    "    c_q = int(r_qC_q[1])\n",
    "\n",
    "    obstacles = []\n",
    "\n",
    "    for _ in range(k):\n",
    "        obstacles.append(list(map(int, input().rstrip().split())))\n",
    "\n",
    "    result = queensAttack(n, k, r_q, c_q, obstacles)\n",
    "\n",
    "    fptr.write(str(result) + '\\n')\n",
    "\n",
    "    fptr.close()\n"
   ]
  },
  {
   "cell_type": "markdown",
   "metadata": {},
   "source": [
    "## Jumping on the Clouds: Revisited"
   ]
  },
  {
   "cell_type": "code",
   "execution_count": 4,
   "metadata": {
    "ExecuteTime": {
     "end_time": "2020-09-26T03:58:12.194107Z",
     "start_time": "2020-09-26T03:58:05.259184Z"
    }
   },
   "outputs": [
    {
     "name": "stdout",
     "output_type": "stream",
     "text": [
      "10 3\n",
      "1 1 1 0 1 1 0 0 0 0\n",
      "98\n",
      "97\n",
      "94\n",
      "91\n",
      "90\n",
      "87\n",
      "84\n",
      "83\n",
      "80\n",
      "80\n"
     ]
    }
   ],
   "source": [
    "#!/bin/python3\n",
    "\n",
    "import math\n",
    "import os\n",
    "import random\n",
    "import re\n",
    "import sys\n",
    "\n",
    "# Complete the jumpingOnClouds function below.\n",
    "def jumpingOnClouds(c, k):\n",
    "    energy = 100\n",
    "    n = len(c)\n",
    "    i = (0+k)%n\n",
    "    energy -= c[i]*2+1\n",
    "    while(i != 0):\n",
    "        i = (i+k)%n\n",
    "        energy -= (c[i]*2) + 1\n",
    "        print(energy)\n",
    "    return energy\n",
    "\n",
    "if __name__ == '__main__':\n",
    "    #fptr = open(os.environ['OUTPUT_PATH'], 'w')\n",
    "\n",
    "    nk = input().split()\n",
    "\n",
    "    n = int(nk[0])\n",
    "\n",
    "    k = int(nk[1])\n",
    "\n",
    "    c = list(map(int, input().rstrip().split()))\n",
    "\n",
    "    result = jumpingOnClouds(c, k)\n",
    "    print(result)\n",
    "\n",
    "    #fptr.write(str(result) + '\\n')\n",
    "\n",
    "    #fptr.close()\n"
   ]
  }
 ],
 "metadata": {
  "kernelspec": {
   "display_name": "Python 3",
   "language": "python",
   "name": "python3"
  },
  "language_info": {
   "codemirror_mode": {
    "name": "ipython",
    "version": 3
   },
   "file_extension": ".py",
   "mimetype": "text/x-python",
   "name": "python",
   "nbconvert_exporter": "python",
   "pygments_lexer": "ipython3",
   "version": "3.7.6"
  },
  "toc": {
   "base_numbering": 1,
   "nav_menu": {},
   "number_sections": true,
   "sideBar": true,
   "skip_h1_title": false,
   "title_cell": "Table of Contents",
   "title_sidebar": "Contents",
   "toc_cell": false,
   "toc_position": {},
   "toc_section_display": true,
   "toc_window_display": true
  },
  "varInspector": {
   "cols": {
    "lenName": 16,
    "lenType": 16,
    "lenVar": 40
   },
   "kernels_config": {
    "python": {
     "delete_cmd_postfix": "",
     "delete_cmd_prefix": "del ",
     "library": "var_list.py",
     "varRefreshCmd": "print(var_dic_list())"
    },
    "r": {
     "delete_cmd_postfix": ") ",
     "delete_cmd_prefix": "rm(",
     "library": "var_list.r",
     "varRefreshCmd": "cat(var_dic_list()) "
    }
   },
   "types_to_exclude": [
    "module",
    "function",
    "builtin_function_or_method",
    "instance",
    "_Feature"
   ],
   "window_display": false
  }
 },
 "nbformat": 4,
 "nbformat_minor": 4
}
