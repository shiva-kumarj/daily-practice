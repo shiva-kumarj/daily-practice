{
 "cells": [
  {
   "cell_type": "markdown",
   "metadata": {
    "toc": true
   },
   "source": [
    "<h1>Table of Contents<span class=\"tocSkip\"></span></h1>\n",
    "<div class=\"toc\"><ul class=\"toc-item\"><li><span><a href=\"#Day-0:-Mean,-Median,-and-Mode\" data-toc-modified-id=\"Day-0:-Mean,-Median,-and-Mode-1\">Day 0: Mean, Median, and Mode</a></span></li></ul></div>"
   ]
  },
  {
   "cell_type": "markdown",
   "metadata": {},
   "source": [
    "## Day 0: Mean, Median, and Mode"
   ]
  },
  {
   "cell_type": "code",
   "execution_count": 3,
   "metadata": {
    "ExecuteTime": {
     "end_time": "2020-10-02T04:07:57.829895Z",
     "start_time": "2020-10-02T04:07:57.667803Z"
    }
   },
   "outputs": [],
   "source": [
    "import numpy as np"
   ]
  },
  {
   "cell_type": "code",
   "execution_count": 22,
   "metadata": {
    "ExecuteTime": {
     "end_time": "2020-10-02T04:34:43.272919Z",
     "start_time": "2020-10-02T04:34:43.252621Z"
    },
    "scrolled": true
   },
   "outputs": [
    {
     "data": {
      "text/plain": [
       "{}"
      ]
     },
     "execution_count": 22,
     "metadata": {},
     "output_type": "execute_result"
    }
   ],
   "source": [
    "for key, value in freq.items():\n",
    "    if(value == max(freq.values())):\n",
    "        print(key)\n",
    "        \n",
    "freq"
   ]
  },
  {
   "cell_type": "code",
   "execution_count": 29,
   "metadata": {
    "ExecuteTime": {
     "end_time": "2020-10-02T04:39:08.318884Z",
     "start_time": "2020-10-02T04:38:58.046244Z"
    }
   },
   "outputs": [
    {
     "name": "stdout",
     "output_type": "stream",
     "text": [
      "10\n",
      "1 2 3 4 5 4 3 2 1\n",
      "2.78\n",
      "3\n",
      "1\n"
     ]
    }
   ],
   "source": [
    "n = int(input())\n",
    "c = list(map(int, input().rstrip().split()))\n",
    "mean = np.round(sum(c)/len(c), 2)\n",
    "print(mean)\n",
    "c.sort()\n",
    "if(len(c)%2 != 0):\n",
    "    print(c[len(c)//2])\n",
    "else:\n",
    "    print((c[len(c)//2] + c[len(c)//2-1])/2)\n",
    "freq = dict()\n",
    "for num in c:\n",
    "    freq[num] = c.count(num)\n",
    "for key, value in freq.items():\n",
    "    if(max(freq.values()) == 1):\n",
    "        print(c[0])\n",
    "        break\n",
    "    elif(value == max(freq.values())):\n",
    "        print(key)\n",
    "        break"
   ]
  },
  {
   "cell_type": "code",
   "execution_count": null,
   "metadata": {},
   "outputs": [],
   "source": []
  }
 ],
 "metadata": {
  "kernelspec": {
   "display_name": "Python 3",
   "language": "python",
   "name": "python3"
  },
  "language_info": {
   "codemirror_mode": {
    "name": "ipython",
    "version": 3
   },
   "file_extension": ".py",
   "mimetype": "text/x-python",
   "name": "python",
   "nbconvert_exporter": "python",
   "pygments_lexer": "ipython3",
   "version": "3.7.6"
  },
  "toc": {
   "base_numbering": 1,
   "nav_menu": {},
   "number_sections": false,
   "sideBar": true,
   "skip_h1_title": false,
   "title_cell": "Table of Contents",
   "title_sidebar": "Contents",
   "toc_cell": true,
   "toc_position": {
    "height": "calc(100% - 180px)",
    "left": "10px",
    "top": "150px",
    "width": "281.6px"
   },
   "toc_section_display": true,
   "toc_window_display": true
  }
 },
 "nbformat": 4,
 "nbformat_minor": 4
}
